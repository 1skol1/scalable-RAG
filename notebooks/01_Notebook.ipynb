{
 "cells": [
  {
   "cell_type": "code",
   "execution_count": 27,
   "metadata": {},
   "outputs": [
    {
     "name": "stderr",
     "output_type": "stream",
     "text": [
      "/home/divyanshu/miniconda3/envs/rag/lib/python3.8/site-packages/tqdm/auto.py:21: TqdmWarning: IProgress not found. Please update jupyter and ipywidgets. See https://ipywidgets.readthedocs.io/en/stable/user_install.html\n",
      "  from .autonotebook import tqdm as notebook_tqdm\n"
     ]
    }
   ],
   "source": [
    "from sentence_transformers import SentenceTransformer\n",
    "import numpy as np\n",
    "import json\n",
    "import pandas as pd\n",
    "from tqdm.notebook import tqdm"
   ]
  },
  {
   "cell_type": "code",
   "execution_count": 2,
   "metadata": {},
   "outputs": [],
   "source": [
    "model = SentenceTransformer('./.cache/sentence-transformers_all-MiniLM-L6-v2',device='cpu')"
   ]
  },
  {
   "cell_type": "code",
   "execution_count": 16,
   "metadata": {},
   "outputs": [],
   "source": [
    "import json\n",
    " \n",
    " \n",
    "# the file to be converted to\n",
    "# json format\n",
    "filename = './sample.txt'\n",
    " \n",
    "# dictionary where the lines from\n",
    "# text will be stored\n",
    "dict1 = {}\n",
    "asd = []\n",
    "asd2 = []\n",
    "# creating dictionary\n",
    "with open(filename) as fh:\n",
    " \n",
    "    for line in fh:\n",
    "        d_list = []\n",
    "        if line.startswith(\"###\") or line.startswith(\"*\"):\n",
    "            line = line.replace(\"*\", \"\").replace('#',\"\").strip()\n",
    "            asd.append(line)\n",
    "            n_list = []\n",
    "            for line in fh:\n",
    "                if line.startswith(\"###\") or line.startswith(\"*\"):\n",
    "                    line = line.replace(\"*\", \"\").replace('#',\"\").strip()\n",
    "                    asd.append(line)\n",
    "                # n_list.append(line.strip())\n",
    "                    # print(line.strip())\n",
    "                    break\n",
    "                    \n",
    "                \n",
    "                elif not line.startswith(\"#\") and not line.isspace():\n",
    "                    # print(line.strip())\n",
    "                    \n",
    "                    n_list.append(line.strip())\n",
    "                    # print('skipped')\n",
    "            asd2.append(n_list)\n",
    "        elif not line.startswith(\"#\") and not line.isspace():\n",
    "           \n",
    "            d_list.append(line.strip())\n",
    "            for line in fh:\n",
    "                if line.startswith(\"###\") or line.startswith(\"*\"):\n",
    "                    line = line.replace(\"*\", \"\").replace('#',\"\").strip()\n",
    "                    asd.append(line)\n",
    "                # n_list.append(line.strip())\n",
    "                    # print(line.strip())\n",
    "                    break\n",
    "                    \n",
    "                \n",
    "                elif not line.startswith(\"#\") and not line.isspace():\n",
    "                    # print(line.strip())\n",
    "                    \n",
    "                    d_list.append(line.strip())\n",
    "                        # print('skipped')\n",
    "            asd2.append(d_list)\n",
    "                   \n",
    "            \n",
    "           \n",
    "# creating json file\n",
    "# the JSON file is named as test1\n",
    "# out_file = open(\"test1.json\", \"w\")\n",
    "# json.dump(dict1, out_file, indent = 4, sort_keys = False)\n",
    "# out_file.close()"
   ]
  },
  {
   "cell_type": "code",
   "execution_count": 10,
   "metadata": {},
   "outputs": [
    {
     "name": "stdout",
     "output_type": "stream",
     "text": [
      "[['The PAN card is a unique ten-digit alphanumeric identification number that is issued by the Income Tax Department of India to track the tax-related transactions of individuals and entities. The PAN card is mandatory for any financial transaction in India, including opening a bank account, buying or selling property, and filing income tax returns.'], ['All individuals/non-individuals (including foreign citizens/entities) earning taxable income in India must have a PAN card.'], ['In India, two types of PAN cards are available: e-PAN card and physical PAN card.', '1. e-PAN card: An e-PAN card is a digitally-signed PAN card issued in electronic format. It contains the same PAN details as a physical PAN card but is available in a digital format. It can be downloaded online and used as a valid identification document for various purposes. The e-PAN card is usually issued in a PDF format.', \"2. Physical PAN card: A physical PAN card is a laminated card with your PAN details printed on it. It is a physical document that can be carried and used as a valid identification proof. The physical PAN card is sent to the applicant's registered address by post.\", \"Both e-PAN and physical PAN cards have the same validity and can be used for identification purposes. The choice between the two depends on the applicant's preference and requirements.\"], ['NRIS don’t need to have a PAN Card. However, a PAN Card is necessary for NRIs if they wish to do any of the following in India:', '1. A PAN card is required to carry out financial transactions such as opening a bank account, investing in stocks, purchasing or selling property, and investing in India.', '2. If an NRI earns an income in India, they must file income tax returns. A PAN card is necessary to file these returns.', '3. If an NRI wants to invest in mutual funds in India, they must have a PAN card.'], ['NRI Accounts comprise of NRE,NRO and FCNR Accounts. A basic overview to understand the importance of PAN Card with respect to these three accounts can be understood as:', 'NRE: For funds earned outside India where both Principal and Interest earned are tax-free. Therefore, NRIs can opt for Form 60, which is a substitute for PAN for opening an NRE Account.', 'NRO: For funds earned in India which are mostly liable to taxes. Income such as rent or pension where taxes are not deducted at source are deposited in an NRO Account. Therefore, a PAN Card is mandatory for NRO Accounts.', 'FCNR: For foreign currency term deposits from outside India. Again, the principal and interest are tax-free, so usage of a PAN Card is not necessary and can be substituted with Form 60.'], ['Here are the steps for *PAN CARD* processing.', '- Visit ABC app', '- Navigate to Services > NRI Pan Card > Apply New PAN', '- Select the required form of PAN card and proceed with the payment', '- Our team will get in touch with you to ask for the following documents:', '- Passport(Any Country) / OCI Card', '- Passport Size Photograph', '- Overseas address proof with zip code (Supporting documents - Indian NRO/NRE Account statement or Overseas bank statement or Utility bill)'], ['If you have Aadhaar card, no other document is required. You can get your pan card through your Aadhaar card in 10 minutes.', 'If you don’t have an Aadhaar card,Passport(Any Country) / OCI Card,Passport Size Photograph,Overseas address proof with zip code (Supporting documents - Indian NRO/NRE Account statement or Overseas bank statement or Utility bill)'], ['The PAN CARD Application through ABC costs Rs 2500 for E-PAN, and if you want it to be couriered, it will cost Rs 1200 extra for physical delivery to your address.', '- e-PAN Card cost: INR 2500', '- Physical PAN Card cost: INR 3700'], ['If you have Aadhaar card****', 'You can get a Pan Card instantly **(in under 10 minutes)**, if you have an Aadhaar card. You can apply through ABC.', 'If you don’t have an Aadhaar card********************************************************************', 'Once the payment is made to ABC, we will contact you and initiate the process. Pan card will be issued in 3 weeks.'], ['- Your name', '- Father’s name', '- Date of Birth', '- Citizenship', '- Photograph', '- Signature', '- Gender', '- Address', '- Contact details'], ['To update the details on your PAN card, you have to generate the reissue request for the Updation/ Correction of the PAN CARD. Follow the steps:', '- Go to ABC app', '- Navigate to Services > NRI PAN Card > PAN Card Correction', '- Request reissue the required PAN card and make the payment', '- Our team will reachout to you for the required documents', 'Do you want to start the process here instead? Click the button below.', 'Time required to complete the correction process for the PAN card:** The duration to complete the correction process for your PAN card can vary, but it generally takes around 2-3 weeks.'], ['To update the information on the PAN card, kindly keep these documents ready.', '- Copy of Existing Pan card', '- Passport(Any Country) / OCI Card', '- Passport Size Photograph', '- Overseas address proof with zip code (Supporting documents - Indian NRO/NRE Account statement or Overseas bank statement or Utility bill)'], ['- Passport', '- OCI Card', '- Bank Account Statement in the country of residence', '- NRE Bank Account Statement in India', '- Residential Permit'], ['No direct provisions exist to change citizenship in a Pan Card as the **PAN Card** doesn’t display your citizenship. It is a document required to file taxes, carry out investments and do transactions in India, whether you are a citizen, NRI, or OCI.', 'To change the citizenship in a PAN card, you must meet and notify your jurisdictional Assessing Officer. For NRIs, it is not easy to meet the assessing officer. However, ABC can meet or notify the jurisdictional assessing officer on your behalf. Contact a tax expert at ABC to change your citizenship on PAN card.', \"Time required to update the citizenship status:** Generally, it takes around a month to complete the process, but the duration can vary based on factors such as workload and the authorities' responsiveness.\", 'To reprint your PAN card, you need to follow a specific procedure that involves providing certain documents and information to authenticate your identity. The process can take around 2-3 weeks to complete. You can apply for a reprint through ABC. We will guide you through the process and help you obtain a new copy of your PAN card.'], ['1. **If you remember your PAN number:**', '- Pan number', '- Passport(Any Country) / OCI Card', '- Passport Size Photograph', '- Overseas address proof with zip code (Supporting documents - Indian NRO/NRE Account statement or Overseas bank statement or Utility bill)', '2. **If you don’t remember your PAN number:**', 'This gets tricky in most cases so our representative will reach out to you to inform you about the process.', 'Do you remember your PAN card number?'], ['The charges for reprinting the PAN Card are INR 2500 for e-pan, and INR 3700 for physical pan card.', 'ABC can link your PAN card and Aadhaar card on your behalf.'], ['- Go to ABC app', '- Navigate to Services > NRI PAN Card > Link PAN with Aadhaar', '- Request reissue the required PAN card and make the payment', '- Our team will reach out to you for the required documents', 'Alternatively, you can also initiate the process on WhatsApp as well.'], ['The charges for linking Pan & Aadhaar is INR 2000/-, including the penalty charges to be paid for the delay in linking Pan & Aadhaar.'], ['Kindly share a copy of your pan card and Aadhaar card. ABC will review the documents and share a payment link for the linking.', 'New Deadline for linking Aadhaar with pan card 30 June 2023. PAN will become inoperative after June 2023 if not linked to Aadhaar.'], ['It takes upto 6 to 7 days for PAN Aadhaar linking for NRIs.'], ['Form 49AA is the application form for the allotment of Permanent Account Number for Foreign residents and entities incorporated outside India.'], ['Here are the necessary documents that are supposed to be submitted along with PAN Card Form 49AA', '1. Passport', '2. PIO card issued by Government of India', '3. OCI card issued by Government of India', '4. Other national/citizenship Identification Number/Taxpayer Identification Number duly attested by “Apostille” or by the Indian Embassy/High Commission/Consulate in the country where the applicant is located or authorized officials of overseas branches of Scheduled Banks registered in India.', '5. Bank account statement in the country of residence', '6. NRE bank account statement in India', '7. Certificate of Residence in India or Residential permit issued by the State Police Authorities', '8. Registration certificate issued by the Foreigner’s Registration Office showing Indian address', '9. Visa granted and Copy of appointment letter/ contract from Indian Company & Certificate (in original) of Indian address issued by the employer'], ['No, Aadhaar and PAN linking is optional for NRIs. However, to avoid any legal complications in India, NRIs should either link their PAN to Aadhaar, or update their status as non-resident.'], ['No, PAN works completely the same way for both NRI and Resident Indian except for one factor – the type of Application Form alone changes with respect to your current Residential Status. A PAN is mandatory when filing an Income-Tax return, TDS or any transaction that attracts tax.'], ['Yes. You can apply for a PAN Card from the USA. The easiest and most convenient way to apply for a PAN card from the USA is through ABC.'], ['No, in the absence of the Pan Card, **NRIs can sign Form 60** [Form 60 is a declaration to be filed by an individual or a person (not being a company or firm) who does not have a Permanent Account Number (PAN) and who in involved in any transaction] to open an NRI Account.'], ['Yes, NRIs who hold foreign citizenship, such as OCI holders or people of Indian origin who possess foreign citizenship or foreigners who are not of Indian origin, can get PAN card through Form 49AA.'], ['No, A [PAN card](https://ABC.com/blog/nri-income-tax/uses-of-a-pan-card-for-nris) is mandatory to buy property in India. NRIs need a PAN card because they will be required to file income tax returns if they have rented out the property. Besides, if the property is sold later, the capital gains resulting from the sales would be subject to capital gains tax.'], ['There is no difference between an NRI PAN card and normal PAN card. An [NRI PAN card is the same as a PAN card issued to individuals living in India](https://ABC.com/blog/nri-bank-accounts/what-is-the-difference-between-an-nri-pan-card-and-a-normal-pan-card#:~:text=There%20is%20only%20one%20Pan,to%20Indian%20Residents%20and%20NRIs.). However, to apply for a PAN card for OCI or people of Indian origin who hold foreign citizenship, an applicant is required to fill Form 49AA.'], ['PAN is not compulsory for all NRIs. A PAN card is mandatory for NRIs with a source of income in India to file their taxes or if they want to invest in stocks or mutual funds in India.'], ['The **basic difference** between a PAN Card and [Form 60](https://www.incometaxindia.gov.in/forms/income-tax%20rules/103120000000007944.pdf) is that you can only sign and use the Form 60 to open a bank account but in order to file taxes and carry out investments from that account, a Pan Card is mandatory.'], ['No, it is illegal to possess multiple PAN cards. As a Canadian citizen, you cannot obtain a new PAN card. Instead, you should update your citizenship status in the existing PAN card.'], [\"You can use your NRI PAN card to perform KYC (Know Your Customer) for your father's mutual funds. However, ensuring that your PAN card reflects your updated citizenship status is crucial. You need to complete updating your citizenship in the PAN database before using it for any financial transactions or KYC requirements.\"], ['Yes, the PAN card can be delivered to your overseas address, including your Canadian address. While applying for a new PAN card or requesting corrections, you can provide your Canadian address as the delivery address. Make sure to provide accurate and complete address details to ensure successful delivery.'], ['To update your citizenship status, you must provide documents such as your foreign passport, revoked Indian passport (if applicable), and a citizenship renunciation letter (if you have renounced Indian citizenship).'], ['No, an overseas driving license is generally not considered a valid address proof for the PAN card. Instead, you can provide alternative documents such as bank statements or credit card statements that contain your overseas address as proof of address while applying for corrections or updating your PAN card.'], ['During the PAN card correction process, you will be either provided with a payment link or taken to Razorpay page. Razorpay is a secure online platform where you can make the payment conveniently using various payment options such as credit/debit cards, net banking, or digital wallets. Make sure to follow the instructions provided and ensure the payment is made within the specified timeframe.'], ['It is important for the date of birth (DOB) to be the same on both the PAN and Aadhaar documents. However, minor differences in the name should not pose an issue.'], ['Yes, NRIs can make the payment through their Indian bank accounts. However, it is worth noting that paying in Indian Rupees (INR) may be costlier due to the application of 18% GST.'], ['No, ABC only accepts online payments for the linking process and does not accept cheques.'], ['NRIs can make the payment using their debit or credit cards or through their international cards.'], ['Yes, NRIs residing in the USA can link their PAN and Aadhaar cards without the need to visit India. ABC can assist them digitally.'], ['NRIs can share their PAN and Aadhaar card details by providing clear images of the documents to ABC. Blurry or unclear images may require re-submission for verification.'], ['Yes, NRIs can use their international debit or credit cards to make the payment for the linking process.'], ['No, it is not necessary to download the ABC app or visit their website for the payment process. The payment link provided by ABC can be accessed directly to make the payment.'], ['Yes, NRIs can apply for a PAN card without an Aadhaar Card? They can simply do so by filling out either of the forms – 49A (for citizens of India) or Form 49AA (for foreign citizens).'], ['Yes, as an NRI, you can apply for a PAN card. The process for applying for a PAN card is the same for both residents and NRIs. However, if you are an OCI holder or a person of Indian origin who holds foreign citizenship, you will need to fill Form 49AA to apply for a PAN card.'], ['Yes, you can take the delivery of your PAN card only at an Indian address mentioned in your Aadhaar card. While applying for a new PAN card or requesting corrections, you can provide your Indian address as the delivery address. Make sure to provide accurate and complete address details to ensure successful delivery.']]\n"
     ]
    }
   ],
   "source": [
    "# print(len(asd))\n",
    "print((asd2))"
   ]
  },
  {
   "cell_type": "code",
   "execution_count": 17,
   "metadata": {},
   "outputs": [],
   "source": [
    "new_asd2 = []\n",
    "for i in asd2:\n",
    "    if len(i) > 1:\n",
    "        # print(f'Length : {len(i)}', i)\n",
    "        i = [' '.join(i)]\n",
    "        i = [i[0].replace(\"*\", \"\").strip()]\n",
    "        new_asd2.append(i)\n",
    "    else:\n",
    "        new_asd2.append(i)"
   ]
  },
  {
   "cell_type": "code",
   "execution_count": 13,
   "metadata": {},
   "outputs": [
    {
     "name": "stdout",
     "output_type": "stream",
     "text": [
      "[['The PAN card is a unique ten-digit alphanumeric identification number that is issued by the Income Tax Department of India to track the tax-related transactions of individuals and entities. The PAN card is mandatory for any financial transaction in India, including opening a bank account, buying or selling property, and filing income tax returns.'], ['All individuals/non-individuals (including foreign citizens/entities) earning taxable income in India must have a PAN card.'], [\"In India, two types of PAN cards are available: e-PAN card and physical PAN card. 1. e-PAN card: An e-PAN card is a digitally-signed PAN card issued in electronic format. It contains the same PAN details as a physical PAN card but is available in a digital format. It can be downloaded online and used as a valid identification document for various purposes. The e-PAN card is usually issued in a PDF format. 2. Physical PAN card: A physical PAN card is a laminated card with your PAN details printed on it. It is a physical document that can be carried and used as a valid identification proof. The physical PAN card is sent to the applicant's registered address by post. Both e-PAN and physical PAN cards have the same validity and can be used for identification purposes. The choice between the two depends on the applicant's preference and requirements.\"], ['NRIS don’t need to have a PAN Card. However, a PAN Card is necessary for NRIs if they wish to do any of the following in India: 1. A PAN card is required to carry out financial transactions such as opening a bank account, investing in stocks, purchasing or selling property, and investing in India. 2. If an NRI earns an income in India, they must file income tax returns. A PAN card is necessary to file these returns. 3. If an NRI wants to invest in mutual funds in India, they must have a PAN card.'], ['NRI Accounts comprise of NRE,NRO and FCNR Accounts. A basic overview to understand the importance of PAN Card with respect to these three accounts can be understood as: NRE: For funds earned outside India where both Principal and Interest earned are tax-free. Therefore, NRIs can opt for Form 60, which is a substitute for PAN for opening an NRE Account. NRO: For funds earned in India which are mostly liable to taxes. Income such as rent or pension where taxes are not deducted at source are deposited in an NRO Account. Therefore, a PAN Card is mandatory for NRO Accounts. FCNR: For foreign currency term deposits from outside India. Again, the principal and interest are tax-free, so usage of a PAN Card is not necessary and can be substituted with Form 60.'], ['Here are the steps for PAN CARD processing. - Visit ABC app - Navigate to Services > NRI Pan Card > Apply New PAN - Select the required form of PAN card and proceed with the payment - Our team will get in touch with you to ask for the following documents: - Passport(Any Country) / OCI Card - Passport Size Photograph - Overseas address proof with zip code (Supporting documents - Indian NRO/NRE Account statement or Overseas bank statement or Utility bill)'], ['If you have Aadhaar card, no other document is required. You can get your pan card through your Aadhaar card in 10 minutes. If you don’t have an Aadhaar card,Passport(Any Country) / OCI Card,Passport Size Photograph,Overseas address proof with zip code (Supporting documents - Indian NRO/NRE Account statement or Overseas bank statement or Utility bill)'], ['The PAN CARD Application through ABC costs Rs 2500 for E-PAN, and if you want it to be couriered, it will cost Rs 1200 extra for physical delivery to your address. - e-PAN Card cost: INR 2500 - Physical PAN Card cost: INR 3700'], ['If you have Aadhaar card You can get a Pan Card instantly (in under 10 minutes), if you have an Aadhaar card. You can apply through ABC. If you don’t have an Aadhaar card Once the payment is made to ABC, we will contact you and initiate the process. Pan card will be issued in 3 weeks.'], ['- Your name - Father’s name - Date of Birth - Citizenship - Photograph - Signature - Gender - Address - Contact details'], ['To update the details on your PAN card, you have to generate the reissue request for the Updation/ Correction of the PAN CARD. Follow the steps: - Go to ABC app - Navigate to Services > NRI PAN Card > PAN Card Correction - Request reissue the required PAN card and make the payment - Our team will reachout to you for the required documents Do you want to start the process here instead? Click the button below. Time required to complete the correction process for the PAN card: The duration to complete the correction process for your PAN card can vary, but it generally takes around 2-3 weeks.'], ['To update the information on the PAN card, kindly keep these documents ready. - Copy of Existing Pan card - Passport(Any Country) / OCI Card - Passport Size Photograph - Overseas address proof with zip code (Supporting documents - Indian NRO/NRE Account statement or Overseas bank statement or Utility bill)'], ['- Passport - OCI Card - Bank Account Statement in the country of residence - NRE Bank Account Statement in India - Residential Permit'], [\"No direct provisions exist to change citizenship in a Pan Card as the PAN Card doesn’t display your citizenship. It is a document required to file taxes, carry out investments and do transactions in India, whether you are a citizen, NRI, or OCI. To change the citizenship in a PAN card, you must meet and notify your jurisdictional Assessing Officer. For NRIs, it is not easy to meet the assessing officer. However, ABC can meet or notify the jurisdictional assessing officer on your behalf. Contact a tax expert at ABC to change your citizenship on PAN card. Time required to update the citizenship status: Generally, it takes around a month to complete the process, but the duration can vary based on factors such as workload and the authorities' responsiveness. To reprint your PAN card, you need to follow a specific procedure that involves providing certain documents and information to authenticate your identity. The process can take around 2-3 weeks to complete. You can apply for a reprint through ABC. We will guide you through the process and help you obtain a new copy of your PAN card.\"], ['1. If you remember your PAN number: - Pan number - Passport(Any Country) / OCI Card - Passport Size Photograph - Overseas address proof with zip code (Supporting documents - Indian NRO/NRE Account statement or Overseas bank statement or Utility bill) 2. If you don’t remember your PAN number: This gets tricky in most cases so our representative will reach out to you to inform you about the process. Do you remember your PAN card number?'], ['The charges for reprinting the PAN Card are INR 2500 for e-pan, and INR 3700 for physical pan card. ABC can link your PAN card and Aadhaar card on your behalf.'], ['- Go to ABC app - Navigate to Services > NRI PAN Card > Link PAN with Aadhaar - Request reissue the required PAN card and make the payment - Our team will reach out to you for the required documents Alternatively, you can also initiate the process on WhatsApp as well.'], ['The charges for linking Pan & Aadhaar is INR 2000/-, including the penalty charges to be paid for the delay in linking Pan & Aadhaar.'], ['Kindly share a copy of your pan card and Aadhaar card. ABC will review the documents and share a payment link for the linking. New Deadline for linking Aadhaar with pan card 30 June 2023. PAN will become inoperative after June 2023 if not linked to Aadhaar.'], ['It takes upto 6 to 7 days for PAN Aadhaar linking for NRIs.'], ['Form 49AA is the application form for the allotment of Permanent Account Number for Foreign residents and entities incorporated outside India.'], ['Here are the necessary documents that are supposed to be submitted along with PAN Card Form 49AA 1. Passport 2. PIO card issued by Government of India 3. OCI card issued by Government of India 4. Other national/citizenship Identification Number/Taxpayer Identification Number duly attested by “Apostille” or by the Indian Embassy/High Commission/Consulate in the country where the applicant is located or authorized officials of overseas branches of Scheduled Banks registered in India. 5. Bank account statement in the country of residence 6. NRE bank account statement in India 7. Certificate of Residence in India or Residential permit issued by the State Police Authorities 8. Registration certificate issued by the Foreigner’s Registration Office showing Indian address 9. Visa granted and Copy of appointment letter/ contract from Indian Company & Certificate (in original) of Indian address issued by the employer'], ['No, Aadhaar and PAN linking is optional for NRIs. However, to avoid any legal complications in India, NRIs should either link their PAN to Aadhaar, or update their status as non-resident.'], ['No, PAN works completely the same way for both NRI and Resident Indian except for one factor – the type of Application Form alone changes with respect to your current Residential Status. A PAN is mandatory when filing an Income-Tax return, TDS or any transaction that attracts tax.'], ['Yes. You can apply for a PAN Card from the USA. The easiest and most convenient way to apply for a PAN card from the USA is through ABC.'], ['No, in the absence of the Pan Card, **NRIs can sign Form 60** [Form 60 is a declaration to be filed by an individual or a person (not being a company or firm) who does not have a Permanent Account Number (PAN) and who in involved in any transaction] to open an NRI Account.'], ['Yes, NRIs who hold foreign citizenship, such as OCI holders or people of Indian origin who possess foreign citizenship or foreigners who are not of Indian origin, can get PAN card through Form 49AA.'], ['No, A [PAN card](https://ABC.com/blog/nri-income-tax/uses-of-a-pan-card-for-nris) is mandatory to buy property in India. NRIs need a PAN card because they will be required to file income tax returns if they have rented out the property. Besides, if the property is sold later, the capital gains resulting from the sales would be subject to capital gains tax.'], ['There is no difference between an NRI PAN card and normal PAN card. An [NRI PAN card is the same as a PAN card issued to individuals living in India](https://ABC.com/blog/nri-bank-accounts/what-is-the-difference-between-an-nri-pan-card-and-a-normal-pan-card#:~:text=There%20is%20only%20one%20Pan,to%20Indian%20Residents%20and%20NRIs.). However, to apply for a PAN card for OCI or people of Indian origin who hold foreign citizenship, an applicant is required to fill Form 49AA.'], ['PAN is not compulsory for all NRIs. A PAN card is mandatory for NRIs with a source of income in India to file their taxes or if they want to invest in stocks or mutual funds in India.'], ['The **basic difference** between a PAN Card and [Form 60](https://www.incometaxindia.gov.in/forms/income-tax%20rules/103120000000007944.pdf) is that you can only sign and use the Form 60 to open a bank account but in order to file taxes and carry out investments from that account, a Pan Card is mandatory.'], ['No, it is illegal to possess multiple PAN cards. As a Canadian citizen, you cannot obtain a new PAN card. Instead, you should update your citizenship status in the existing PAN card.'], [\"You can use your NRI PAN card to perform KYC (Know Your Customer) for your father's mutual funds. However, ensuring that your PAN card reflects your updated citizenship status is crucial. You need to complete updating your citizenship in the PAN database before using it for any financial transactions or KYC requirements.\"], ['Yes, the PAN card can be delivered to your overseas address, including your Canadian address. While applying for a new PAN card or requesting corrections, you can provide your Canadian address as the delivery address. Make sure to provide accurate and complete address details to ensure successful delivery.'], ['To update your citizenship status, you must provide documents such as your foreign passport, revoked Indian passport (if applicable), and a citizenship renunciation letter (if you have renounced Indian citizenship).'], ['No, an overseas driving license is generally not considered a valid address proof for the PAN card. Instead, you can provide alternative documents such as bank statements or credit card statements that contain your overseas address as proof of address while applying for corrections or updating your PAN card.'], ['During the PAN card correction process, you will be either provided with a payment link or taken to Razorpay page. Razorpay is a secure online platform where you can make the payment conveniently using various payment options such as credit/debit cards, net banking, or digital wallets. Make sure to follow the instructions provided and ensure the payment is made within the specified timeframe.'], ['It is important for the date of birth (DOB) to be the same on both the PAN and Aadhaar documents. However, minor differences in the name should not pose an issue.'], ['Yes, NRIs can make the payment through their Indian bank accounts. However, it is worth noting that paying in Indian Rupees (INR) may be costlier due to the application of 18% GST.'], ['No, ABC only accepts online payments for the linking process and does not accept cheques.'], ['NRIs can make the payment using their debit or credit cards or through their international cards.'], ['Yes, NRIs residing in the USA can link their PAN and Aadhaar cards without the need to visit India. ABC can assist them digitally.'], ['NRIs can share their PAN and Aadhaar card details by providing clear images of the documents to ABC. Blurry or unclear images may require re-submission for verification.'], ['Yes, NRIs can use their international debit or credit cards to make the payment for the linking process.'], ['No, it is not necessary to download the ABC app or visit their website for the payment process. The payment link provided by ABC can be accessed directly to make the payment.'], ['Yes, NRIs can apply for a PAN card without an Aadhaar Card? They can simply do so by filling out either of the forms – 49A (for citizens of India) or Form 49AA (for foreign citizens).'], ['Yes, as an NRI, you can apply for a PAN card. The process for applying for a PAN card is the same for both residents and NRIs. However, if you are an OCI holder or a person of Indian origin who holds foreign citizenship, you will need to fill Form 49AA to apply for a PAN card.'], ['Yes, you can take the delivery of your PAN card only at an Indian address mentioned in your Aadhaar card. While applying for a new PAN card or requesting corrections, you can provide your Indian address as the delivery address. Make sure to provide accurate and complete address details to ensure successful delivery.']]\n"
     ]
    }
   ],
   "source": [
    "print(new_asd2)"
   ]
  },
  {
   "cell_type": "code",
   "execution_count": 23,
   "metadata": {},
   "outputs": [],
   "source": [
    "new_asd2 = [''.join(inner) for inner in new_asd2]"
   ]
  },
  {
   "cell_type": "code",
   "execution_count": 43,
   "metadata": {},
   "outputs": [],
   "source": [
    "dictionary = dict(zip(asd, new_asd2))\n"
   ]
  },
  {
   "cell_type": "code",
   "execution_count": 44,
   "metadata": {},
   "outputs": [
    {
     "data": {
      "text/plain": [
       "{'What is Pan card?': 'The PAN card is a unique ten-digit alphanumeric identification number that is issued by the Income Tax Department of India to track the tax-related transactions of individuals and entities. The PAN card is mandatory for any financial transaction in India, including opening a bank account, buying or selling property, and filing income tax returns.',\n",
       " 'Who needs a Pan card?': 'All individuals/non-individuals (including foreign citizens/entities) earning taxable income in India must have a PAN card.',\n",
       " 'Types of PAN cards': \"In India, two types of PAN cards are available: e-PAN card and physical PAN card. 1. e-PAN card: An e-PAN card is a digitally-signed PAN card issued in electronic format. It contains the same PAN details as a physical PAN card but is available in a digital format. It can be downloaded online and used as a valid identification document for various purposes. The e-PAN card is usually issued in a PDF format. 2. Physical PAN card: A physical PAN card is a laminated card with your PAN details printed on it. It is a physical document that can be carried and used as a valid identification proof. The physical PAN card is sent to the applicant's registered address by post. Both e-PAN and physical PAN cards have the same validity and can be used for identification purposes. The choice between the two depends on the applicant's preference and requirements.\",\n",
       " 'Why do NRIs need PAN card?': 'NRIS don’t need to have a PAN Card. However, a PAN Card is necessary for NRIs if they wish to do any of the following in India: 1. A PAN card is required to carry out financial transactions such as opening a bank account, investing in stocks, purchasing or selling property, and investing in India. 2. If an NRI earns an income in India, they must file income tax returns. A PAN card is necessary to file these returns. 3. If an NRI wants to invest in mutual funds in India, they must have a PAN card.',\n",
       " 'Importance of PAN card for different NRI account options': 'NRI Accounts comprise of NRE,NRO and FCNR Accounts. A basic overview to understand the importance of PAN Card with respect to these three accounts can be understood as: NRE: For funds earned outside India where both Principal and Interest earned are tax-free. Therefore, NRIs can opt for Form 60, which is a substitute for PAN for opening an NRE Account. NRO: For funds earned in India which are mostly liable to taxes. Income such as rent or pension where taxes are not deducted at source are deposited in an NRO Account. Therefore, a PAN Card is mandatory for NRO Accounts. FCNR: For foreign currency term deposits from outside India. Again, the principal and interest are tax-free, so usage of a PAN Card is not necessary and can be substituted with Form 60.',\n",
       " 'How can NRI apply for a new PAN card': 'Here are the steps for PAN CARD processing. - Visit ABC app - Navigate to Services > NRI Pan Card > Apply New PAN - Select the required form of PAN card and proceed with the payment - Our team will get in touch with you to ask for the following documents: - Passport(Any Country) / OCI Card - Passport Size Photograph - Overseas address proof with zip code (Supporting documents - Indian NRO/NRE Account statement or Overseas bank statement or Utility bill)',\n",
       " 'Documents required for a new PAN Card': 'If you have Aadhaar card, no other document is required. You can get your pan card through your Aadhaar card in 10 minutes. If you don’t have an Aadhaar card,Passport(Any Country) / OCI Card,Passport Size Photograph,Overseas address proof with zip code (Supporting documents - Indian NRO/NRE Account statement or Overseas bank statement or Utility bill)',\n",
       " 'Cost of new PAN card': 'The PAN CARD Application through ABC costs Rs 2500 for E-PAN, and if you want it to be couriered, it will cost Rs 1200 extra for physical delivery to your address. - e-PAN Card cost: INR 2500 - Physical PAN Card cost: INR 3700',\n",
       " 'Time required to issue PAN card': 'If you have Aadhaar card You can get a Pan Card instantly (in under 10 minutes), if you have an Aadhaar card. You can apply through ABC. If you don’t have an Aadhaar card Once the payment is made to ABC, we will contact you and initiate the process. Pan card will be issued in 3 weeks.',\n",
       " 'Information that can be updated in the PAN Card': '- Your name - Father’s name - Date of Birth - Citizenship - Photograph - Signature - Gender - Address - Contact details',\n",
       " 'General process to update details on PAN Card': 'To update the details on your PAN card, you have to generate the reissue request for the Updation/ Correction of the PAN CARD. Follow the steps: - Go to ABC app - Navigate to Services > NRI PAN Card > PAN Card Correction - Request reissue the required PAN card and make the payment - Our team will reachout to you for the required documents Do you want to start the process here instead? Click the button below. Time required to complete the correction process for the PAN card: The duration to complete the correction process for your PAN card can vary, but it generally takes around 2-3 weeks.',\n",
       " 'Documents required to update the details on PAN Card': 'To update the information on the PAN card, kindly keep these documents ready. - Copy of Existing Pan card - Passport(Any Country) / OCI Card - Passport Size Photograph - Overseas address proof with zip code (Supporting documents - Indian NRO/NRE Account statement or Overseas bank statement or Utility bill)',\n",
       " 'Documents required to update the address on PAN Card': '- Passport - OCI Card - Bank Account Statement in the country of residence - NRE Bank Account Statement in India - Residential Permit',\n",
       " 'Process to change the citizenship on PAN Card': \"No direct provisions exist to change citizenship in a Pan Card as the PAN Card doesn’t display your citizenship. It is a document required to file taxes, carry out investments and do transactions in India, whether you are a citizen, NRI, or OCI. To change the citizenship in a PAN card, you must meet and notify your jurisdictional Assessing Officer. For NRIs, it is not easy to meet the assessing officer. However, ABC can meet or notify the jurisdictional assessing officer on your behalf. Contact a tax expert at ABC to change your citizenship on PAN card. Time required to update the citizenship status: Generally, it takes around a month to complete the process, but the duration can vary based on factors such as workload and the authorities' responsiveness. To reprint your PAN card, you need to follow a specific procedure that involves providing certain documents and information to authenticate your identity. The process can take around 2-3 weeks to complete. You can apply for a reprint through ABC. We will guide you through the process and help you obtain a new copy of your PAN card.\",\n",
       " 'Documents required for reprinting the lost PAN card': '1. If you remember your PAN number: - Pan number - Passport(Any Country) / OCI Card - Passport Size Photograph - Overseas address proof with zip code (Supporting documents - Indian NRO/NRE Account statement or Overseas bank statement or Utility bill) 2. If you don’t remember your PAN number: This gets tricky in most cases so our representative will reach out to you to inform you about the process. Do you remember your PAN card number?',\n",
       " 'Charges for reprinting the PAN Card': 'The charges for reprinting the PAN Card are INR 2500 for e-pan, and INR 3700 for physical pan card. ABC can link your PAN card and Aadhaar card on your behalf.',\n",
       " 'Process to link PAN with Aadhaar': '- Go to ABC app - Navigate to Services > NRI PAN Card > Link PAN with Aadhaar - Request reissue the required PAN card and make the payment - Our team will reach out to you for the required documents Alternatively, you can also initiate the process on WhatsApp as well.',\n",
       " 'ABC fees to link PAN with Aadhaar': 'The charges for linking Pan & Aadhaar is INR 2000/-, including the penalty charges to be paid for the delay in linking Pan & Aadhaar.',\n",
       " 'Documents required to link PAN with Aadhaar': 'Kindly share a copy of your pan card and Aadhaar card. ABC will review the documents and share a payment link for the linking. New Deadline for linking Aadhaar with pan card 30 June 2023. PAN will become inoperative after June 2023 if not linked to Aadhaar.',\n",
       " 'Time required for PAN Aadhaar link for NRI?': 'It takes upto 6 to 7 days for PAN Aadhaar linking for NRIs.',\n",
       " 'What is Form 49aa?': 'Form 49AA is the application form for the allotment of Permanent Account Number for Foreign residents and entities incorporated outside India.',\n",
       " 'Documents Required for Form 49AA': 'Here are the necessary documents that are supposed to be submitted along with PAN Card Form 49AA 1. Passport 2. PIO card issued by Government of India 3. OCI card issued by Government of India 4. Other national/citizenship Identification Number/Taxpayer Identification Number duly attested by “Apostille” or by the Indian Embassy/High Commission/Consulate in the country where the applicant is located or authorized officials of overseas branches of Scheduled Banks registered in India. 5. Bank account statement in the country of residence 6. NRE bank account statement in India 7. Certificate of Residence in India or Residential permit issued by the State Police Authorities 8. Registration certificate issued by the Foreigner’s Registration Office showing Indian address 9. Visa granted and Copy of appointment letter/ contract from Indian Company & Certificate (in original) of Indian address issued by the employer',\n",
       " 'Is it mandatory to link Aadhaar with PAN for NRI?': 'No, Aadhaar and PAN linking is optional for NRIs. However, to avoid any legal complications in India, NRIs should either link their PAN to Aadhaar, or update their status as non-resident.',\n",
       " 'Is PAN card different for NRI?': 'No, PAN works completely the same way for both NRI and Resident Indian except for one factor – the type of Application Form alone changes with respect to your current Residential Status. A PAN is mandatory when filing an Income-Tax return, TDS or any transaction that attracts tax.',\n",
       " 'Can I apply for pan card from USA?': 'Yes. You can apply for a PAN Card from the USA. The easiest and most convenient way to apply for a PAN card from the USA is through ABC.',\n",
       " 'Is a PAN card mandatory for an NRI bank account?': 'No, in the absence of the Pan Card, **NRIs can sign Form 60** [Form 60 is a declaration to be filed by an individual or a person (not being a company or firm) who does not have a Permanent Account Number (PAN) and who in involved in any transaction] to open an NRI Account.',\n",
       " 'Can OCI holders get PAN card?': 'Yes, NRIs who hold foreign citizenship, such as OCI holders or people of Indian origin who possess foreign citizenship or foreigners who are not of Indian origin, can get PAN card through Form 49AA.',\n",
       " 'Can an NRI buy property in India without PAN card?': 'No, A [PAN card](https://ABC.com/blog/nri-income-tax/uses-of-a-pan-card-for-nris) is mandatory to buy property in India. NRIs need a PAN card because they will be required to file income tax returns if they have rented out the property. Besides, if the property is sold later, the capital gains resulting from the sales would be subject to capital gains tax.',\n",
       " 'What is the difference between an NRI PAN card and normal PAN card?': 'There is no difference between an NRI PAN card and normal PAN card. An [NRI PAN card is the same as a PAN card issued to individuals living in India](https://ABC.com/blog/nri-bank-accounts/what-is-the-difference-between-an-nri-pan-card-and-a-normal-pan-card#:~:text=There%20is%20only%20one%20Pan,to%20Indian%20Residents%20and%20NRIs.). However, to apply for a PAN card for OCI or people of Indian origin who hold foreign citizenship, an applicant is required to fill Form 49AA.',\n",
       " 'Is a PAN card mandatory for NRI?': 'PAN is not compulsory for all NRIs. A PAN card is mandatory for NRIs with a source of income in India to file their taxes or if they want to invest in stocks or mutual funds in India.',\n",
       " 'What is the difference between PAN card and Form 60?': 'The **basic difference** between a PAN Card and [Form 60](https://www.incometaxindia.gov.in/forms/income-tax%20rules/103120000000007944.pdf) is that you can only sign and use the Form 60 to open a bank account but in order to file taxes and carry out investments from that account, a Pan Card is mandatory.',\n",
       " 'Can I get a new PAN card as a Canadian citizen?': 'No, it is illegal to possess multiple PAN cards. As a Canadian citizen, you cannot obtain a new PAN card. Instead, you should update your citizenship status in the existing PAN card.',\n",
       " \"Can I perform KYC for my father's mutual funds with an NRI PAN card?\": \"You can use your NRI PAN card to perform KYC (Know Your Customer) for your father's mutual funds. However, ensuring that your PAN card reflects your updated citizenship status is crucial. You need to complete updating your citizenship in the PAN database before using it for any financial transactions or KYC requirements.\",\n",
       " 'Can the new PAN card be dispatched to my Canadian address?': 'Yes, the PAN card can be delivered to your overseas address, including your Canadian address. While applying for a new PAN card or requesting corrections, you can provide your Canadian address as the delivery address. Make sure to provide accurate and complete address details to ensure successful delivery.',\n",
       " 'What documents are required for updating citizenship on the PAN card?': 'To update your citizenship status, you must provide documents such as your foreign passport, revoked Indian passport (if applicable), and a citizenship renunciation letter (if you have renounced Indian citizenship).',\n",
       " 'Can an overseas driving license be considered as a valid address proof for the PAN card?': 'No, an overseas driving license is generally not considered a valid address proof for the PAN card. Instead, you can provide alternative documents such as bank statements or credit card statements that contain your overseas address as proof of address while applying for corrections or updating your PAN card.',\n",
       " 'How can I make the payment for the PAN card correction process?': 'During the PAN card correction process, you will be either provided with a payment link or taken to Razorpay page. Razorpay is a secure online platform where you can make the payment conveniently using various payment options such as credit/debit cards, net banking, or digital wallets. Make sure to follow the instructions provided and ensure the payment is made within the specified timeframe.',\n",
       " 'Can I link aadhaar card and PAN card even if there is minor difference in my name in both?': 'It is important for the date of birth (DOB) to be the same on both the PAN and Aadhaar documents. However, minor differences in the name should not pose an issue.',\n",
       " 'Can NRIs make the payment for the process using an Indian bank account?': 'Yes, NRIs can make the payment through their Indian bank accounts. However, it is worth noting that paying in Indian Rupees (INR) may be costlier due to the application of 18% GST.',\n",
       " 'Is it possible to make the payment for the process using a cheque?': 'No, ABC only accepts online payments for the linking process and does not accept cheques.',\n",
       " 'What payment options are available for NRIs?': 'NRIs can make the payment using their debit or credit cards or through their international cards.',\n",
       " 'Can NRIs residing in the USA link their PAN and Aadhaar cards without visiting India?': 'Yes, NRIs residing in the USA can link their PAN and Aadhaar cards without the need to visit India. ABC can assist them digitally.',\n",
       " 'How can NRIs share their PAN and Aadhaar card details with ABC for the linking process?': 'NRIs can share their PAN and Aadhaar card details by providing clear images of the documents to ABC. Blurry or unclear images may require re-submission for verification.',\n",
       " 'Can NRIs use an international card for making the payment?': 'Yes, NRIs can use their international debit or credit cards to make the payment for the linking process.',\n",
       " 'Is it necessary to download the ABC app or visit their website for the payment process': 'No, it is not necessary to download the ABC app or visit their website for the payment process. The payment link provided by ABC can be accessed directly to make the payment.',\n",
       " 'Can I apply for pan card without Aadhaar?': 'Yes, NRIs can apply for a PAN card without an Aadhaar Card? They can simply do so by filling out either of the forms – 49A (for citizens of India) or Form 49AA (for foreign citizens).',\n",
       " 'Can I apply for a PAN card if I am a non-resident Indian (NRI)?': 'Yes, as an NRI, you can apply for a PAN card. The process for applying for a PAN card is the same for both residents and NRIs. However, if you are an OCI holder or a person of Indian origin who holds foreign citizenship, you will need to fill Form 49AA to apply for a PAN card.',\n",
       " 'Can I take the delivery of Pan card at Indian address?': 'Yes, you can take the delivery of your PAN card only at an Indian address mentioned in your Aadhaar card. While applying for a new PAN card or requesting corrections, you can provide your Indian address as the delivery address. Make sure to provide accurate and complete address details to ensure successful delivery.'}"
      ]
     },
     "execution_count": 44,
     "metadata": {},
     "output_type": "execute_result"
    }
   ],
   "source": [
    "dictionary"
   ]
  },
  {
   "cell_type": "code",
   "execution_count": 45,
   "metadata": {},
   "outputs": [
    {
     "name": "stderr",
     "output_type": "stream",
     "text": [
      "Batches:   0%|          | 0/2 [00:00<?, ?it/s]"
     ]
    },
    {
     "name": "stderr",
     "output_type": "stream",
     "text": [
      "Batches: 100%|██████████| 2/2 [00:00<00:00,  2.86it/s]\n"
     ]
    }
   ],
   "source": [
    "vectors = model.encode([\n",
    "    k for k,v in dictionary.items()\n",
    "], show_progress_bar=True)"
   ]
  },
  {
   "cell_type": "code",
   "execution_count": 46,
   "metadata": {},
   "outputs": [],
   "source": [
    "new_dict = []\n",
    "for k,v in dictionary.items():\n",
    "    new_dict.append({'answer':v})\n",
    "    "
   ]
  },
  {
   "cell_type": "code",
   "execution_count": 47,
   "metadata": {},
   "outputs": [
    {
     "data": {
      "text/plain": [
       "[{'answer': 'The PAN card is a unique ten-digit alphanumeric identification number that is issued by the Income Tax Department of India to track the tax-related transactions of individuals and entities. The PAN card is mandatory for any financial transaction in India, including opening a bank account, buying or selling property, and filing income tax returns.'},\n",
       " {'answer': 'All individuals/non-individuals (including foreign citizens/entities) earning taxable income in India must have a PAN card.'},\n",
       " {'answer': \"In India, two types of PAN cards are available: e-PAN card and physical PAN card. 1. e-PAN card: An e-PAN card is a digitally-signed PAN card issued in electronic format. It contains the same PAN details as a physical PAN card but is available in a digital format. It can be downloaded online and used as a valid identification document for various purposes. The e-PAN card is usually issued in a PDF format. 2. Physical PAN card: A physical PAN card is a laminated card with your PAN details printed on it. It is a physical document that can be carried and used as a valid identification proof. The physical PAN card is sent to the applicant's registered address by post. Both e-PAN and physical PAN cards have the same validity and can be used for identification purposes. The choice between the two depends on the applicant's preference and requirements.\"},\n",
       " {'answer': 'NRIS don’t need to have a PAN Card. However, a PAN Card is necessary for NRIs if they wish to do any of the following in India: 1. A PAN card is required to carry out financial transactions such as opening a bank account, investing in stocks, purchasing or selling property, and investing in India. 2. If an NRI earns an income in India, they must file income tax returns. A PAN card is necessary to file these returns. 3. If an NRI wants to invest in mutual funds in India, they must have a PAN card.'},\n",
       " {'answer': 'NRI Accounts comprise of NRE,NRO and FCNR Accounts. A basic overview to understand the importance of PAN Card with respect to these three accounts can be understood as: NRE: For funds earned outside India where both Principal and Interest earned are tax-free. Therefore, NRIs can opt for Form 60, which is a substitute for PAN for opening an NRE Account. NRO: For funds earned in India which are mostly liable to taxes. Income such as rent or pension where taxes are not deducted at source are deposited in an NRO Account. Therefore, a PAN Card is mandatory for NRO Accounts. FCNR: For foreign currency term deposits from outside India. Again, the principal and interest are tax-free, so usage of a PAN Card is not necessary and can be substituted with Form 60.'},\n",
       " {'answer': 'Here are the steps for PAN CARD processing. - Visit ABC app - Navigate to Services > NRI Pan Card > Apply New PAN - Select the required form of PAN card and proceed with the payment - Our team will get in touch with you to ask for the following documents: - Passport(Any Country) / OCI Card - Passport Size Photograph - Overseas address proof with zip code (Supporting documents - Indian NRO/NRE Account statement or Overseas bank statement or Utility bill)'},\n",
       " {'answer': 'If you have Aadhaar card, no other document is required. You can get your pan card through your Aadhaar card in 10 minutes. If you don’t have an Aadhaar card,Passport(Any Country) / OCI Card,Passport Size Photograph,Overseas address proof with zip code (Supporting documents - Indian NRO/NRE Account statement or Overseas bank statement or Utility bill)'},\n",
       " {'answer': 'The PAN CARD Application through ABC costs Rs 2500 for E-PAN, and if you want it to be couriered, it will cost Rs 1200 extra for physical delivery to your address. - e-PAN Card cost: INR 2500 - Physical PAN Card cost: INR 3700'},\n",
       " {'answer': 'If you have Aadhaar card You can get a Pan Card instantly (in under 10 minutes), if you have an Aadhaar card. You can apply through ABC. If you don’t have an Aadhaar card Once the payment is made to ABC, we will contact you and initiate the process. Pan card will be issued in 3 weeks.'},\n",
       " {'answer': '- Your name - Father’s name - Date of Birth - Citizenship - Photograph - Signature - Gender - Address - Contact details'},\n",
       " {'answer': 'To update the details on your PAN card, you have to generate the reissue request for the Updation/ Correction of the PAN CARD. Follow the steps: - Go to ABC app - Navigate to Services > NRI PAN Card > PAN Card Correction - Request reissue the required PAN card and make the payment - Our team will reachout to you for the required documents Do you want to start the process here instead? Click the button below. Time required to complete the correction process for the PAN card: The duration to complete the correction process for your PAN card can vary, but it generally takes around 2-3 weeks.'},\n",
       " {'answer': 'To update the information on the PAN card, kindly keep these documents ready. - Copy of Existing Pan card - Passport(Any Country) / OCI Card - Passport Size Photograph - Overseas address proof with zip code (Supporting documents - Indian NRO/NRE Account statement or Overseas bank statement or Utility bill)'},\n",
       " {'answer': '- Passport - OCI Card - Bank Account Statement in the country of residence - NRE Bank Account Statement in India - Residential Permit'},\n",
       " {'answer': \"No direct provisions exist to change citizenship in a Pan Card as the PAN Card doesn’t display your citizenship. It is a document required to file taxes, carry out investments and do transactions in India, whether you are a citizen, NRI, or OCI. To change the citizenship in a PAN card, you must meet and notify your jurisdictional Assessing Officer. For NRIs, it is not easy to meet the assessing officer. However, ABC can meet or notify the jurisdictional assessing officer on your behalf. Contact a tax expert at ABC to change your citizenship on PAN card. Time required to update the citizenship status: Generally, it takes around a month to complete the process, but the duration can vary based on factors such as workload and the authorities' responsiveness. To reprint your PAN card, you need to follow a specific procedure that involves providing certain documents and information to authenticate your identity. The process can take around 2-3 weeks to complete. You can apply for a reprint through ABC. We will guide you through the process and help you obtain a new copy of your PAN card.\"},\n",
       " {'answer': '1. If you remember your PAN number: - Pan number - Passport(Any Country) / OCI Card - Passport Size Photograph - Overseas address proof with zip code (Supporting documents - Indian NRO/NRE Account statement or Overseas bank statement or Utility bill) 2. If you don’t remember your PAN number: This gets tricky in most cases so our representative will reach out to you to inform you about the process. Do you remember your PAN card number?'},\n",
       " {'answer': 'The charges for reprinting the PAN Card are INR 2500 for e-pan, and INR 3700 for physical pan card. ABC can link your PAN card and Aadhaar card on your behalf.'},\n",
       " {'answer': '- Go to ABC app - Navigate to Services > NRI PAN Card > Link PAN with Aadhaar - Request reissue the required PAN card and make the payment - Our team will reach out to you for the required documents Alternatively, you can also initiate the process on WhatsApp as well.'},\n",
       " {'answer': 'The charges for linking Pan & Aadhaar is INR 2000/-, including the penalty charges to be paid for the delay in linking Pan & Aadhaar.'},\n",
       " {'answer': 'Kindly share a copy of your pan card and Aadhaar card. ABC will review the documents and share a payment link for the linking. New Deadline for linking Aadhaar with pan card 30 June 2023. PAN will become inoperative after June 2023 if not linked to Aadhaar.'},\n",
       " {'answer': 'It takes upto 6 to 7 days for PAN Aadhaar linking for NRIs.'},\n",
       " {'answer': 'Form 49AA is the application form for the allotment of Permanent Account Number for Foreign residents and entities incorporated outside India.'},\n",
       " {'answer': 'Here are the necessary documents that are supposed to be submitted along with PAN Card Form 49AA 1. Passport 2. PIO card issued by Government of India 3. OCI card issued by Government of India 4. Other national/citizenship Identification Number/Taxpayer Identification Number duly attested by “Apostille” or by the Indian Embassy/High Commission/Consulate in the country where the applicant is located or authorized officials of overseas branches of Scheduled Banks registered in India. 5. Bank account statement in the country of residence 6. NRE bank account statement in India 7. Certificate of Residence in India or Residential permit issued by the State Police Authorities 8. Registration certificate issued by the Foreigner’s Registration Office showing Indian address 9. Visa granted and Copy of appointment letter/ contract from Indian Company & Certificate (in original) of Indian address issued by the employer'},\n",
       " {'answer': 'No, Aadhaar and PAN linking is optional for NRIs. However, to avoid any legal complications in India, NRIs should either link their PAN to Aadhaar, or update their status as non-resident.'},\n",
       " {'answer': 'No, PAN works completely the same way for both NRI and Resident Indian except for one factor – the type of Application Form alone changes with respect to your current Residential Status. A PAN is mandatory when filing an Income-Tax return, TDS or any transaction that attracts tax.'},\n",
       " {'answer': 'Yes. You can apply for a PAN Card from the USA. The easiest and most convenient way to apply for a PAN card from the USA is through ABC.'},\n",
       " {'answer': 'No, in the absence of the Pan Card, **NRIs can sign Form 60** [Form 60 is a declaration to be filed by an individual or a person (not being a company or firm) who does not have a Permanent Account Number (PAN) and who in involved in any transaction] to open an NRI Account.'},\n",
       " {'answer': 'Yes, NRIs who hold foreign citizenship, such as OCI holders or people of Indian origin who possess foreign citizenship or foreigners who are not of Indian origin, can get PAN card through Form 49AA.'},\n",
       " {'answer': 'No, A [PAN card](https://ABC.com/blog/nri-income-tax/uses-of-a-pan-card-for-nris) is mandatory to buy property in India. NRIs need a PAN card because they will be required to file income tax returns if they have rented out the property. Besides, if the property is sold later, the capital gains resulting from the sales would be subject to capital gains tax.'},\n",
       " {'answer': 'There is no difference between an NRI PAN card and normal PAN card. An [NRI PAN card is the same as a PAN card issued to individuals living in India](https://ABC.com/blog/nri-bank-accounts/what-is-the-difference-between-an-nri-pan-card-and-a-normal-pan-card#:~:text=There%20is%20only%20one%20Pan,to%20Indian%20Residents%20and%20NRIs.). However, to apply for a PAN card for OCI or people of Indian origin who hold foreign citizenship, an applicant is required to fill Form 49AA.'},\n",
       " {'answer': 'PAN is not compulsory for all NRIs. A PAN card is mandatory for NRIs with a source of income in India to file their taxes or if they want to invest in stocks or mutual funds in India.'},\n",
       " {'answer': 'The **basic difference** between a PAN Card and [Form 60](https://www.incometaxindia.gov.in/forms/income-tax%20rules/103120000000007944.pdf) is that you can only sign and use the Form 60 to open a bank account but in order to file taxes and carry out investments from that account, a Pan Card is mandatory.'},\n",
       " {'answer': 'No, it is illegal to possess multiple PAN cards. As a Canadian citizen, you cannot obtain a new PAN card. Instead, you should update your citizenship status in the existing PAN card.'},\n",
       " {'answer': \"You can use your NRI PAN card to perform KYC (Know Your Customer) for your father's mutual funds. However, ensuring that your PAN card reflects your updated citizenship status is crucial. You need to complete updating your citizenship in the PAN database before using it for any financial transactions or KYC requirements.\"},\n",
       " {'answer': 'Yes, the PAN card can be delivered to your overseas address, including your Canadian address. While applying for a new PAN card or requesting corrections, you can provide your Canadian address as the delivery address. Make sure to provide accurate and complete address details to ensure successful delivery.'},\n",
       " {'answer': 'To update your citizenship status, you must provide documents such as your foreign passport, revoked Indian passport (if applicable), and a citizenship renunciation letter (if you have renounced Indian citizenship).'},\n",
       " {'answer': 'No, an overseas driving license is generally not considered a valid address proof for the PAN card. Instead, you can provide alternative documents such as bank statements or credit card statements that contain your overseas address as proof of address while applying for corrections or updating your PAN card.'},\n",
       " {'answer': 'During the PAN card correction process, you will be either provided with a payment link or taken to Razorpay page. Razorpay is a secure online platform where you can make the payment conveniently using various payment options such as credit/debit cards, net banking, or digital wallets. Make sure to follow the instructions provided and ensure the payment is made within the specified timeframe.'},\n",
       " {'answer': 'It is important for the date of birth (DOB) to be the same on both the PAN and Aadhaar documents. However, minor differences in the name should not pose an issue.'},\n",
       " {'answer': 'Yes, NRIs can make the payment through their Indian bank accounts. However, it is worth noting that paying in Indian Rupees (INR) may be costlier due to the application of 18% GST.'},\n",
       " {'answer': 'No, ABC only accepts online payments for the linking process and does not accept cheques.'},\n",
       " {'answer': 'NRIs can make the payment using their debit or credit cards or through their international cards.'},\n",
       " {'answer': 'Yes, NRIs residing in the USA can link their PAN and Aadhaar cards without the need to visit India. ABC can assist them digitally.'},\n",
       " {'answer': 'NRIs can share their PAN and Aadhaar card details by providing clear images of the documents to ABC. Blurry or unclear images may require re-submission for verification.'},\n",
       " {'answer': 'Yes, NRIs can use their international debit or credit cards to make the payment for the linking process.'},\n",
       " {'answer': 'No, it is not necessary to download the ABC app or visit their website for the payment process. The payment link provided by ABC can be accessed directly to make the payment.'},\n",
       " {'answer': 'Yes, NRIs can apply for a PAN card without an Aadhaar Card? They can simply do so by filling out either of the forms – 49A (for citizens of India) or Form 49AA (for foreign citizens).'},\n",
       " {'answer': 'Yes, as an NRI, you can apply for a PAN card. The process for applying for a PAN card is the same for both residents and NRIs. However, if you are an OCI holder or a person of Indian origin who holds foreign citizenship, you will need to fill Form 49AA to apply for a PAN card.'},\n",
       " {'answer': 'Yes, you can take the delivery of your PAN card only at an Indian address mentioned in your Aadhaar card. While applying for a new PAN card or requesting corrections, you can provide your Indian address as the delivery address. Make sure to provide accurate and complete address details to ensure successful delivery.'}]"
      ]
     },
     "execution_count": 47,
     "metadata": {},
     "output_type": "execute_result"
    }
   ],
   "source": [
    "new_dict"
   ]
  },
  {
   "cell_type": "code",
   "execution_count": 32,
   "metadata": {},
   "outputs": [],
   "source": [
    "# Import client library\n",
    "from qdrant_client import QdrantClient\n",
    "from qdrant_client.models import VectorParams, Distance\n",
    "\n",
    "qdrant_client = QdrantClient('http://localhost:6333')"
   ]
  },
  {
   "cell_type": "code",
   "execution_count": 50,
   "metadata": {},
   "outputs": [
    {
     "data": {
      "text/plain": [
       "True"
      ]
     },
     "execution_count": 50,
     "metadata": {},
     "output_type": "execute_result"
    }
   ],
   "source": [
    "qdrant_client.recreate_collection(\n",
    "    collection_name='pan-QA', \n",
    "    vectors_config=VectorParams(size=384, distance=Distance.COSINE),\n",
    ")"
   ]
  },
  {
   "cell_type": "code",
   "execution_count": 52,
   "metadata": {},
   "outputs": [],
   "source": [
    "qdrant_client.upload_collection(\n",
    "    collection_name='pan-QA',\n",
    "    vectors=vectors,\n",
    "    payload=new_dict,\n",
    "    ids=None,  # Vector ids will be assigned automatically\n",
    ")"
   ]
  },
  {
   "cell_type": "code",
   "execution_count": 1,
   "metadata": {},
   "outputs": [
    {
     "name": "stderr",
     "output_type": "stream",
     "text": [
      "/home/divyanshu/miniconda3/envs/rag/lib/python3.8/site-packages/tqdm/auto.py:21: TqdmWarning: IProgress not found. Please update jupyter and ipywidgets. See https://ipywidgets.readthedocs.io/en/stable/user_install.html\n",
      "  from .autonotebook import tqdm as notebook_tqdm\n"
     ]
    }
   ],
   "source": [
    "from qdrant_client import QdrantClient\n",
    "from sentence_transformers import SentenceTransformer\n",
    "\n",
    "\n",
    "class NeuralSearcher:\n",
    "\n",
    "    def __init__(self, collection_name):\n",
    "        self.collection_name = collection_name\n",
    "        # Initialize encoder model\n",
    "        self.model = SentenceTransformer('./.cache/sentence-transformers_all-MiniLM-L6-v2',device='cpu')\n",
    "        # initialize Qdrant client\n",
    "        self.qdrant_client = QdrantClient('http://localhost:6333')\n",
    "\n",
    "    def search(self, text: str):\n",
    "        # Convert text query into vector\n",
    "        vector = self.model.encode(text).tolist()\n",
    "\n",
    "        # Use `vector` for search for closest vectors in the collection\n",
    "        search_result = self.qdrant_client.search(\n",
    "            collection_name=self.collection_name,\n",
    "            query_vector=vector,\n",
    "            query_filter=None,  # If you don't want any filters for now\n",
    "            limit=5  # 5 the most closest results is enough\n",
    "        )\n",
    "        # `search_result` contains found vector ids with similarity scores along with the stored payload\n",
    "        # In this function you are interested in payload only\n",
    "        payloads = [hit.payload for hit in search_result]\n",
    "        return payloads"
   ]
  },
  {
   "cell_type": "code",
   "execution_count": 56,
   "metadata": {},
   "outputs": [],
   "source": [
    "neural_searcher = NeuralSearcher(collection_name='pan-QA')\n",
    "result = neural_searcher.search(text='What are the documents required to apply for the new pan')"
   ]
  },
  {
   "cell_type": "code",
   "execution_count": 57,
   "metadata": {},
   "outputs": [
    {
     "data": {
      "text/plain": [
       "[{'answer': 'If you have Aadhaar card, no other document is required. You can get your pan card through your Aadhaar card in 10 minutes. If you don’t have an Aadhaar card,Passport(Any Country) / OCI Card,Passport Size Photograph,Overseas address proof with zip code (Supporting documents - Indian NRO/NRE Account statement or Overseas bank statement or Utility bill)'},\n",
       " {'answer': 'To update your citizenship status, you must provide documents such as your foreign passport, revoked Indian passport (if applicable), and a citizenship renunciation letter (if you have renounced Indian citizenship).'},\n",
       " {'answer': 'To update the information on the PAN card, kindly keep these documents ready. - Copy of Existing Pan card - Passport(Any Country) / OCI Card - Passport Size Photograph - Overseas address proof with zip code (Supporting documents - Indian NRO/NRE Account statement or Overseas bank statement or Utility bill)'},\n",
       " {'answer': '1. If you remember your PAN number: - Pan number - Passport(Any Country) / OCI Card - Passport Size Photograph - Overseas address proof with zip code (Supporting documents - Indian NRO/NRE Account statement or Overseas bank statement or Utility bill) 2. If you don’t remember your PAN number: This gets tricky in most cases so our representative will reach out to you to inform you about the process. Do you remember your PAN card number?'},\n",
       " {'answer': '- Passport - OCI Card - Bank Account Statement in the country of residence - NRE Bank Account Statement in India - Residential Permit'}]"
      ]
     },
     "execution_count": 57,
     "metadata": {},
     "output_type": "execute_result"
    }
   ],
   "source": [
    "result"
   ]
  },
  {
   "cell_type": "code",
   "execution_count": 1,
   "metadata": {},
   "outputs": [
    {
     "name": "stdout",
     "output_type": "stream",
     "text": [
      "[{'generated_text': 'individuals/non-individuals (including foreign citizens/entities) earning taxable income in'}]\n"
     ]
    }
   ],
   "source": [
    "import requests\n",
    "\n",
    "API_URL = \"https://api-inference.huggingface.co/models/google/flan-t5-xxl\"\n",
    "API_TOKEN = ''\n",
    "headers = {\"Authorization\": f\"Bearer {API_TOKEN}\"}\n",
    "context = 'All individuals/non-individuals (including foreign citizens/entities) earning taxable income in India must have a PAN card.'\n",
    "usr_query = 'Who needs a Pan card?'\n",
    "prompt_template = f'Answer based on context:\\n\\n{context}\\n\\n{usr_query}'\n",
    "\n",
    "def query(payload):\n",
    "\tresponse = requests.post(API_URL, headers=headers, json=payload)\n",
    "\treturn response.json()\n",
    "\t\n",
    "output = query({\n",
    "\t\"inputs\": prompt_template,\n",
    "})\n",
    "\n",
    "print(output)"
   ]
  }
 ],
 "metadata": {
  "kernelspec": {
   "display_name": "rag",
   "language": "python",
   "name": "python3"
  },
  "language_info": {
   "codemirror_mode": {
    "name": "ipython",
    "version": 3
   },
   "file_extension": ".py",
   "mimetype": "text/x-python",
   "name": "python",
   "nbconvert_exporter": "python",
   "pygments_lexer": "ipython3",
   "version": "3.8.17"
  },
  "orig_nbformat": 4
 },
 "nbformat": 4,
 "nbformat_minor": 2
}
